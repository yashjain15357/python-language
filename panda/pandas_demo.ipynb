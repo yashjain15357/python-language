{
 "cells": [
  {
   "cell_type": "code",
   "execution_count": null,
   "id": "d4302c4e",
   "metadata": {},
   "outputs": [],
   "source": [
    "import pandas as pd"
   ]
  },
  {
   "cell_type": "code",
   "execution_count": null,
   "id": "93d5ebf0-a1c3-4997-b1d9-2fa22d609d99",
   "metadata": {
    "collapsed": true,
    "editable": true,
    "jupyter": {
     "outputs_hidden": true
    },
    "scrolled": true,
    "slideshow": {
     "slide_type": ""
    },
    "tags": []
   },
   "outputs": [],
   "source": [
    "print(\"hellow world\")\n",
    "df = pd.read_csv(r'C:\\Users\\YASH JAIN\\Documents\\New Folder\\OneDrive\\Desktop\\CodeBox\\python language\\panda\\data\\survey_results_public.csv')\n"
   ]
  },
  {
   "cell_type": "code",
   "execution_count": null,
   "id": "1a6c925f-b07b-46d6-b9b6-f8d90ac8a4ae",
   "metadata": {
    "collapsed": true,
    "jupyter": {
     "outputs_hidden": true
    },
    "scrolled": true
   },
   "outputs": [],
   "source": [
    "# it return the full file/table(dataframe)\n",
    "df"
   ]
  },
  {
   "cell_type": "code",
   "execution_count": null,
   "id": "61830627-b53a-406b-bb4f-21cbdc97d0d8",
   "metadata": {},
   "outputs": [],
   "source": [
    "print(df.shape) # give the shape of the / return row ans columns\n",
    "type(df) # type of the data (tuple in that case)"
   ]
  },
  {
   "cell_type": "code",
   "execution_count": null,
   "id": "eb688eff-0dac-4d42-a912-c38fa5a53e7f",
   "metadata": {},
   "outputs": [],
   "source": [
    "df.info()"
   ]
  },
  {
   "cell_type": "code",
   "execution_count": null,
   "id": "640e0b0c",
   "metadata": {},
   "outputs": [],
   "source": [
    "# it return the top 5 rows\n",
    "df.head()"
   ]
  },
  {
   "cell_type": "code",
   "execution_count": null,
   "id": "8d7a32ab",
   "metadata": {},
   "outputs": [],
   "source": [
    "# display the rows\n",
    "pd.set_option('display.max_columns' ,2)\n",
    "pd.set_option('display.max_rows' ,85)\n",
    "cd = pd.read_csv(r'C:\\Users\\YASH JAIN\\Documents\\New Folder\\OneDrive\\Desktop\\CodeBox\\python language\\panda\\data\\survey_results_schema.csv')\n",
    "cd"
   ]
  }
 ],
 "metadata": {
  "kernelspec": {
   "display_name": "Python 3",
   "language": "python",
   "name": "python3"
  },
  "language_info": {
   "codemirror_mode": {
    "name": "ipython",
    "version": 3
   },
   "file_extension": ".py",
   "mimetype": "text/x-python",
   "name": "python",
   "nbconvert_exporter": "python",
   "pygments_lexer": "ipython3",
   "version": "3.12.5"
  }
 },
 "nbformat": 4,
 "nbformat_minor": 5
}
